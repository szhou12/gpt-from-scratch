{
  "nbformat": 4,
  "nbformat_minor": 0,
  "metadata": {
    "colab": {
      "provenance": [],
      "gpuType": "T4",
      "authorship_tag": "ABX9TyOIzHpkEPsqPJBgPRtNevCV",
      "include_colab_link": true
    },
    "kernelspec": {
      "name": "python3",
      "display_name": "Python 3"
    },
    "language_info": {
      "name": "python"
    },
    "accelerator": "GPU"
  },
  "cells": [
    {
      "cell_type": "markdown",
      "metadata": {
        "id": "view-in-github",
        "colab_type": "text"
      },
      "source": [
        "<a href=\"https://colab.research.google.com/github/szhou12/gpt-from-scratch/blob/main/pytorch_funcs_review.ipynb\" target=\"_parent\"><img src=\"https://colab.research.google.com/assets/colab-badge.svg\" alt=\"Open In Colab\"/></a>"
      ]
    },
    {
      "cell_type": "code",
      "execution_count": 1,
      "metadata": {
        "id": "xzsZBomJXNml"
      },
      "outputs": [],
      "source": [
        "import torch\n",
        "import torch.nn as nn\n",
        "from torch.nn import functional as F"
      ]
    },
    {
      "cell_type": "markdown",
      "source": [
        "# torch.nn.Embedding(num_embeddings, embedding_dim)\n",
        "- `nn.Embedding(n, d)`: an Embedding module (table) containing `n` tensors of size `d`.\n",
        "- use `.weight` to show content of embedding table.\n",
        "- Official Doc: https://pytorch.org/docs/stable/generated/torch.nn.Embedding.html"
      ],
      "metadata": {
        "id": "WvqKCXgeXRrq"
      }
    },
    {
      "cell_type": "code",
      "source": [
        "vocab_size = 4\n",
        "embedding_table = nn.Embedding(vocab_size, vocab_size)\n",
        "print(embedding_table.weight)\n"
      ],
      "metadata": {
        "colab": {
          "base_uri": "https://localhost:8080/"
        },
        "id": "cDA3bSRtXTsY",
        "outputId": "e8763289-9ab7-4de7-8f6e-9bc8b62cb683"
      },
      "execution_count": 2,
      "outputs": [
        {
          "output_type": "stream",
          "name": "stdout",
          "text": [
            "Parameter containing:\n",
            "tensor([[-0.2741, -0.4954,  0.6855,  1.7356],\n",
            "        [ 0.2998,  0.9350,  1.4132,  0.1495],\n",
            "        [ 1.5562, -0.4624, -0.8990, -0.2129],\n",
            "        [ 0.7861,  0.6712,  0.8209, -0.7189]], requires_grad=True)\n"
          ]
        }
      ]
    },
    {
      "cell_type": "markdown",
      "source": [
        "# .to(device)\n",
        "- Move the model's parameters (weights and biases) to a specified computing device (e.g. GPU).\n",
        "- In-place operation for `nn.Module` objects, meaning `model` itself is moved to the device.\n",
        "- It's common practice to write as `m = model.to(device)`. However, `m` is just another reference as `model`, meaning they are both moved to the same device. This line could be simplified to just `model.to(device)` instead of `m = model.to(device)` if the separate reference `m` is not specifically needed for later use."
      ],
      "metadata": {
        "id": "2AIFbxI4soXL"
      }
    },
    {
      "cell_type": "code",
      "source": [
        "# Runtime -> Change runtime type -> select 'T4 GPU' to use 'cuda'\n",
        "device = 'cuda' if torch.cuda.is_available() else 'cpu'\n",
        "\n",
        "# Example model\n",
        "class SimpleModel(nn.Module):\n",
        "    def __init__(self):\n",
        "        super(SimpleModel, self).__init__()\n",
        "        self.linear = nn.Linear(10, 5)  # A simple linear layer\n",
        "\n",
        "model = SimpleModel()\n",
        "m = model.to(device)\n",
        "\n",
        "# Check: Iterate through all parameters in 'model' and print their device\n",
        "for name, param in model.named_parameters():\n",
        "    print(f\"model: {name} is on {param.device}\")\n",
        "\n",
        "# Check: Iterate through all parameters in 'm' and print their device\n",
        "for name2, param2 in m.named_parameters():\n",
        "    print(f\"m: {name2} is on {param2.device}\")"
      ],
      "metadata": {
        "colab": {
          "base_uri": "https://localhost:8080/"
        },
        "id": "OZbPX-tgqTG0",
        "outputId": "65507446-4b92-4368-acc6-67cbfa07aaa2"
      },
      "execution_count": 19,
      "outputs": [
        {
          "output_type": "stream",
          "name": "stdout",
          "text": [
            "model: linear.weight is on cuda:0\n",
            "model: linear.bias is on cuda:0\n",
            "m: linear.weight is on cuda:0\n",
            "m: linear.bias is on cuda:0\n"
          ]
        }
      ]
    },
    {
      "cell_type": "code",
      "source": [],
      "metadata": {
        "id": "AyP69blxtyDo"
      },
      "execution_count": null,
      "outputs": []
    }
  ]
}